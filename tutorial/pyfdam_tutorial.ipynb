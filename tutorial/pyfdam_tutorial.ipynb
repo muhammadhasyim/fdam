{
 "cells": [
  {
   "cell_type": "markdown",
   "metadata": {},
   "source": [
    "# Tutorial\n",
    "\n",
    "In this Jupyter notebook, we will do a walkthrough of using PyFDAM to fit a mock impedance data and using it to validate a galvanostatic discharge data. Before you run this tutorial, make sure you've installed PyFDAM!\n",
    "\n",
    "First, let's import the library. We will also import `numpy` as it will be useful later on."
   ]
  },
  {
   "cell_type": "code",
   "execution_count": 1,
   "metadata": {},
   "outputs": [],
   "source": [
    "import pyfdam\n",
    "import numpy as np"
   ]
  },
  {
   "cell_type": "markdown",
   "metadata": {},
   "source": [
    "Next, we'll define the **model** and its **parameters**. In PyFDAM, a model is a formula $ Z(s) $ for the impedance data, where $ s $ is the frequency argument. In Python, the model is written as a function followed by parameters as an additional argument:\n",
    "\n",
    "```python\n",
    "def Zmodel(s,parameters):\n",
    "    # Define your model which takes in 'parameters' as argument\n",
    "```\n",
    "\n",
    "The argument ` parameters ` cannot be defined/managed arbitrarily! PyFDAM provides an object called ` Params ` that will manage the parameters, how they're labeled, and whether they should be designated as fitting vs. fixed parameters. \n",
    "\n",
    "\n",
    "For this tutorial, our model is defined as a symmetric cell with a porous electrode of thickness $ L $ and specific interfacial area $ a$. The contact surface area of the cell is denoted as $A$. Also, the electrolyte's conductivity is denoted by $ \\kappa $ and the current collector's conductivity is denoted by $ \\sigma $. The cell is connected to an external resistor $ R_\\mathrm{ext} $, which model's separator resistance + other external resistance contributions, as well as an inductance element $ L_\\mathrm{ind} $ in series.  Finally, double layer capacitance at the electrode/electrolyte interface is modelled as a simple capacitance $ C_\\mathrm{dl} $.\n",
    "\n",
    "In total we have 8 parameters ($ L, a, A, \\kappa, \\sigma, R_\\mathrm{ext}, L_\\mathrm{ind}, C_\\mathrm{dl} $). For this tutorial, we assume that $ L, a, A, \\sigma $ will be known and is therefore fixed while the rest will be treated as fitting parameters. To do this, we will create the `Params` object and add a list of parameters to it"
   ]
  },
  {
   "cell_type": "code",
   "execution_count": 2,
   "metadata": {},
   "outputs": [],
   "source": [
    "#Step 1 -  Define the Parameters List\n",
    "myparams = pyfdam.Params()\n",
    "\n",
    "#Step 2 - Write the fixed parameters\n",
    "#Electrode thickness (cm)\n",
    "myparams.add('L',0.0242,vary=False)\n",
    "#Conducitivity of current collector\n",
    "myparams.add('sig',8,vary=False)\n",
    "#The interfacial area (cm^2/cm^3)\n",
    "myparams.add('a',6*10**6,vary=False)\n",
    "#The cell area (cm^2).\n",
    "myparams.add('A',71.43,vary=False)\n",
    "\n",
    "#Step 3 - \n",
    "#Seperator/solution resistance, (ohm)\n",
    "myparams.add('Rext',1.0,vary=True,min=0)\n",
    "#External inductance (F/cm2)\n",
    "myparams.add('Lind',1e-5,vary=True,min=0)\n",
    "#double layer capacitance (F/cm2)\n",
    "myparams.add('Cdl',1e-5,vary=True,min=0)\n",
    "#Conductivity of electrolyte\n",
    "myparams.add('kap',1.0,vary=True,min=0)"
   ]
  },
  {
   "cell_type": "markdown",
   "metadata": {},
   "source": [
    "Note that each parameter can be accessed via `.value` method:"
   ]
  },
  {
   "cell_type": "code",
   "execution_count": 3,
   "metadata": {},
   "outputs": [
    {
     "name": "stdout",
     "output_type": "stream",
     "text": [
      "1.0\n",
      "0.0242\n"
     ]
    }
   ],
   "source": [
    "#As an example, we can print the conducitivity of the electrolyte\n",
    "print(myparams['kap'].value)\n",
    "\n",
    "#Or print the electrode thickness \n",
    "print(myparams['L'].value)"
   ]
  },
  {
   "cell_type": "markdown",
   "metadata": {},
   "source": [
    "Once the parameters have been defined, we can actually write the model's function. Let $ Z(s) $ be the cell's total impedance, then the equation for the $ Z(s) $ can be written as\n",
    "\n",
    "\\begin{gather}\n",
    "Z(s) = \\frac{2 L}{(\\kappa + \\sigma)} \\left[1+\\frac{2+\\left(\\frac{\\kappa}{\\sigma}+\\frac{\\sigma}{\\kappa}\\right)\\cosh \\nu}{\\nu \\sinh \\nu}\\right] +R_\\mathrm{ext} +s \\cdot L_\\mathrm{ind}\n",
    "\\\\\n",
    "\\nu = \\sqrt{a \\left(s \\cdot C_\\mathrm{dl} \\right) L^2 \\left(\\frac{1}{\\kappa}+\\frac{1}{\\sigma}\\right)}\n",
    "\\end{gather}\n",
    "where the first term is the porous electrode contribution.\n",
    "\n",
    "The corresponding Python function is"
   ]
  },
  {
   "cell_type": "code",
   "execution_count": 4,
   "metadata": {},
   "outputs": [],
   "source": [
    "def Zmodel(s, params):\n",
    "    #Access the raw numbers from the Params object\n",
    "    Rext = params['Rext'].value\n",
    "    Cdl = params['Cdl'].value\n",
    "    Lind = params['Lind'].value\n",
    "    K = params['kap'].value\n",
    "    sig = params['sig'].value\n",
    "    L = params['L'].value\n",
    "    a = params['a'].value\n",
    "    A = params['A'].value\n",
    "    \n",
    "    res = Cdl*s\n",
    "    nu = (a*res*L**2*(1/sig+1/K))**0.5\n",
    "    imp = (1+(2+(sig/K+K/sig)*np.cosh(nu))/(nu*np.sinh(nu)))\n",
    "\n",
    "    return (2*L*imp/(A*(K+sig))+Rext+Lind*(s))"
   ]
  },
  {
   "cell_type": "markdown",
   "metadata": {},
   "source": [
    "Once we've defined the parameters and model, we can now use them to do impedance fitting. To do this we construct an `ImpedanceFitter` object that will take our defined model, parameters, and impedance data filename as an input.\n"
   ]
  },
  {
   "cell_type": "code",
   "execution_count": 5,
   "metadata": {},
   "outputs": [],
   "source": [
    "MyFit = pyfdam.ImpedanceFitter(model=Zmodel,parameters=myparams,namedata=\"EIS_Mock_Data.txt\")"
   ]
  },
  {
   "cell_type": "markdown",
   "metadata": {},
   "source": [
    "Note that the datafile must be formatted with three columns and no headers! The first column is frequency, the second column is the real part of the impedance, and the third column is the imaginary part of the impedance. In this tutorial, the experimental data is `EIS_Com_2V.txt` so check that file for reference!. \n",
    "\n",
    "Finally, we can run the fitting process using the `.run()` method. The fitting run is done by selecting a suitable numerical method as an initial error minimization step. This is then followed by some number of cycles, denoted by `ncycles`, of Leveberg-Marquadt algorithm to further converge the parameters and obtain their uncertainty."
   ]
  },
  {
   "cell_type": "code",
   "execution_count": 6,
   "metadata": {},
   "outputs": [
    {
     "name": "stdout",
     "output_type": "stream",
     "text": [
      "[[Variables]]\n",
      "    L:     0.0242 (fixed)\n",
      "    sig:   8 (fixed)\n",
      "    a:     6000000 (fixed)\n",
      "    A:     71.43 (fixed)\n",
      "    Rext:  0.01531600 +/- 1.1009e-04 (0.72%) (init = 0.02352427)\n",
      "    Lind:  4.8185e-06 +/- 1.6489e-07 (3.42%) (init = 3.985611e-06)\n",
      "    Cdl:   7.6876e-06 +/- 7.8261e-09 (0.10%) (init = 7.660804e-06)\n",
      "    kap:   0.01425053 +/- 1.6015e-04 (1.12%) (init = 3.835463)\n",
      "[[Correlations]] (unreported correlations are < 0.100)\n",
      "    C(Rext, kap) =  0.690\n"
     ]
    }
   ],
   "source": [
    "MyFit.run(method='nelder',ncycles=1) #In here, we've chosen Nelder-Mead ad the initial method"
   ]
  },
  {
   "cell_type": "markdown",
   "metadata": {},
   "source": [
    "A list of numerical methods for the initial fitting can be found in [the LMFIT package's documentation](https://lmfit.github.io/lmfit-py/fitting.html).\n",
    "\n",
    "Next, we can take a look at the result of the fitting. To do this, we need to grab the output result as well as the experimental impedance data."
   ]
  },
  {
   "cell_type": "code",
   "execution_count": 7,
   "metadata": {},
   "outputs": [],
   "source": [
    "#Get both the frequency (expfreq) and impedance data (expdata) of from the loaded textfile!\n",
    "expfreq, expdata = MyFit.get_impedanceexp()\n",
    "\n",
    "#Get the impedance output from the model using .get_impedancemodel() method. It takes a list of frequencies as an argument\n",
    "modeldata = MyFit.get_impedancemodel(expfreq)"
   ]
  },
  {
   "cell_type": "markdown",
   "metadata": {},
   "source": [
    "Afterwards, we can plot the data!"
   ]
  },
  {
   "cell_type": "code",
   "execution_count": 8,
   "metadata": {},
   "outputs": [
    {
     "data": {
      "text/plain": [
       "(0.0, 0.07)"
      ]
     },
     "execution_count": 8,
     "metadata": {},
     "output_type": "execute_result"
    },
    {
     "data": {
      "image/png": "[encoded data removed]",
      "text/plain": [
       "<Figure size 432x432 with 1 Axes>"
      ]
     },
     "metadata": {
      "needs_background": "light"
     },
     "output_type": "display_data"
    }
   ],
   "source": [
    "%matplotlib inline\n",
    "\n",
    "import matplotlib.pyplot as plt\n",
    "\n",
    "plt.figure(figsize=(6,6))\n",
    "#Plotting model data\n",
    "plt.plot(modeldata.real,-modeldata.imag)\n",
    "\n",
    "#Plotting experimental data\n",
    "plt.plot(expdata.real,-expdata.imag,'o-',alpha=0.5)\n",
    "\n",
    "#Impedance plot should be equal axes\n",
    "plt.gca().set_aspect('equal', adjustable='box')\n",
    "\n",
    "#Some labelling\n",
    "plt.xlabel('Re Z')\n",
    "plt.xlabel('-Im Z')\n",
    "#Adjust the range as necessarry!\n",
    "plt.ylim([-0.02,0.07])\n",
    "plt.xlim([0,0.07])"
   ]
  },
  {
   "cell_type": "markdown",
   "metadata": {},
   "source": [
    "We can also save the impedance data for later plotting"
   ]
  },
  {
   "cell_type": "code",
   "execution_count": 9,
   "metadata": {},
   "outputs": [],
   "source": [
    "#We use the list of frequencies from the experimental data, although we could use any other list of frequencies\n",
    "MyFit.save_impedance(expfreq,'EIS_Model_Data.txt')"
   ]
  },
  {
   "cell_type": "markdown",
   "metadata": {},
   "source": [
    "What's next? Well we can use this set of parameters to run a discharge experiment. The data that we will compare  with starts  at a fully charged cell at 2.4 V, which was discharging at a current of 200 A. To setup the galvanostatic discharge simulation, we need to create a `Galvanostatic` object and feed it wth out model and the fitted parameters, which we can get from the previous `ImpedanceFitter` object via the `.get_params()` method"
   ]
  },
  {
   "cell_type": "code",
   "execution_count": 10,
   "metadata": {},
   "outputs": [],
   "source": [
    "MyGalvanostatic = pyfdam.Galvanostatic(model=Zmodel,parameters=MyFit.get_params())"
   ]
  },
  {
   "cell_type": "markdown",
   "metadata": {},
   "source": [
    "To run the simulation, we can use the `.run()` method which will use the Gaver-Stehfest (GV) method to perform numerical inverse Laplace transform. The `.run()` method takes in the following arguments: \n",
    "1. `time` ($ t $) is an array of time which starts from **intial time larger than zero** (the GV method cannot handle t=0 which requeires information at infinite frequency) and up to some final time. \n",
    "2. `DeltaV0` ($ \\Delta V_0 $)the initial total difference in potential across cell\n",
    "3. `Iapp` ($ I_\\mathrm{app} $) is the applied current, with (-)/(+) sign indicating discharging/charging experiments respectively,\n",
    "4. `A` ($ A $) is an optional parameter that is divided against the impedance function $ Z(s) $ This is used only if the original model is not described in the correct Ohmic units, e.g., the model impedance is multiplied by surface area, etc. By default, it is set to one. For our tutorial,`'A` will be the surface area parameter $ A $ since the original model is expressed in terms of Ohm cm^2. \n",
    "5. `Nterms`($ N_\\mathrm{terms} $) is a parameter for the Gaver-Stehfest method, which should be around 6 to 20 to obtain good convergence of the time-domain profile. By default, it is set to 10.\n",
    "\n",
    "Under the hood, the code is inverting the following function in Laplace space:\n",
    "\n",
    "\\begin{equation}\n",
    "V(s) = \\frac{\\Delta V_0}{s}+\\frac{I_\\mathrm{app} Z(s)}{s \\cdot A}\n",
    "\\end{equation}\n",
    "\n",
    "by using the following series expansion:\n",
    "\n",
    "\\begin{gather}\n",
    "V(t) \\approx \\Delta V_0+\\frac{\\ln 2}{t} \\sum_{n=1}^{N_\\mathrm{terms}} c_{n} \\frac{I_\\mathrm{app} t}{A(n \\ln 2)} \\cdot Z\\left(\\frac{n \\ln 2}{t}\\right)\n",
    "\\\\\n",
    "c_{n}=(-1)^{n+\\frac{N_\\mathrm{terms}}{2}} \\sum_{k=\\frac{n+1}{2}}^{\\min (n, N_\\mathrm{terms} / 2)} \\frac{k^{N_\\mathrm{terms} / 2}(2 k) !}{(N_\\mathrm{terms} / 2-k) ! k !(k-1) !(n-k) !(2 k-n) !}\n",
    "\\end{gather}\n",
    "\n",
    "PyFDAM automates the whole series expansion computation so all we need to do is just feed in the right parameters!"
   ]
  },
  {
   "cell_type": "code",
   "execution_count": 11,
   "metadata": {},
   "outputs": [],
   "source": [
    "#Load the discharge data\n",
    "expdata = np.loadtxt(\"Discharge_Mock_Data.txt\")\n",
    "#The time array is obtained from the mock data. Note that we also exclude the initial time!\n",
    "MyGalvanostatic.run(time = expdata[1:,0], V0=2.4,Iapp=-200,A=myparams['A'].value)\n"
   ]
  },
  {
   "cell_type": "markdown",
   "metadata": {},
   "source": [
    "Similar to the impedance run, we can get the data, which is done through the `.get_output()` method, save the data, which is done through the `.save_output` method, and plot the results"
   ]
  },
  {
   "cell_type": "code",
   "execution_count": 12,
   "metadata": {},
   "outputs": [
    {
     "data": {
      "image/png": "[encoded data removed]",
      "text/plain": [
       "<Figure size 360x360 with 1 Axes>"
      ]
     },
     "metadata": {
      "needs_background": "light"
     },
     "output_type": "display_data"
    }
   ],
   "source": [
    "#Grabbing the output as well as time used\n",
    "t, modeldata = MyGalvanostatic.get_output()\n",
    "#Saving the output\n",
    "MyGalvanostatic.save_output(\"Discharge_Data_Results.txt\")\n",
    "\n",
    "plt.figure(figsize=(5,5))\n",
    "plt.plot(expdata[::2,0],expdata[::2,1],'o', label=\"Experimental Data\")\n",
    "plt.plot(t,modeldata,label=\"Model Validation\")\n",
    "plt.xlabel(\"time (s)\")\n",
    "plt.ylabel(\"Potential (V)\")\n",
    "plt.legend(loc=0)\n",
    "plt.show()"
   ]
  },
  {
   "cell_type": "markdown",
   "metadata": {},
   "source": [
    "## Extra Notes\n",
    "\n",
    "The module only consists of one file, which is just an `__init__.py` file. All codes are implemented in there. PyFDAM also do not implement the fitting routines by itself, and delegate it to the LMFIT package. Any issues pertaining to the fitting process can be traced directly to the LMFIT package. I highly recommend looking at LMFIT package for more troubleshooting because non-linear curve fitting, just by the nature of the mathematical problem, can be difficult! "
   ]
  }
 ],
 "metadata": {
  "kernelspec": {
   "display_name": "Python 3",
   "language": "python",
   "name": "python3"
  },
  "language_info": {
   "codemirror_mode": {
    "name": "ipython",
    "version": 3
   },
   "file_extension": ".py",
   "mimetype": "text/x-python",
   "name": "python",
   "nbconvert_exporter": "python",
   "pygments_lexer": "ipython3",
   "version": "3.8.2"
  }
 },
 "nbformat": 4,
 "nbformat_minor": 4
}
